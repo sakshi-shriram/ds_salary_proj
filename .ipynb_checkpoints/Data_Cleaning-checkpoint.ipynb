{
 "cells": [
  {
   "cell_type": "code",
   "execution_count": 2,
   "metadata": {},
   "outputs": [],
   "source": [
    "import pandas as pd"
   ]
  },
  {
   "cell_type": "code",
   "execution_count": 3,
   "metadata": {},
   "outputs": [],
   "source": [
    "df = pd.read_csv('glassdoor_jobs.csv')"
   ]
  },
  {
   "cell_type": "code",
   "execution_count": 4,
   "metadata": {},
   "outputs": [
    {
     "data": {
      "text/html": [
       "<div>\n",
       "<style scoped>\n",
       "    .dataframe tbody tr th:only-of-type {\n",
       "        vertical-align: middle;\n",
       "    }\n",
       "\n",
       "    .dataframe tbody tr th {\n",
       "        vertical-align: top;\n",
       "    }\n",
       "\n",
       "    .dataframe thead th {\n",
       "        text-align: right;\n",
       "    }\n",
       "</style>\n",
       "<table border=\"1\" class=\"dataframe\">\n",
       "  <thead>\n",
       "    <tr style=\"text-align: right;\">\n",
       "      <th></th>\n",
       "      <th>Unnamed: 0</th>\n",
       "      <th>Job Title</th>\n",
       "      <th>Salary Estimate</th>\n",
       "      <th>Job Description</th>\n",
       "      <th>Rating</th>\n",
       "      <th>Company Name</th>\n",
       "      <th>Location</th>\n",
       "      <th>Headquarters</th>\n",
       "      <th>Size</th>\n",
       "      <th>Founded</th>\n",
       "      <th>Type of ownership</th>\n",
       "      <th>Industry</th>\n",
       "      <th>Sector</th>\n",
       "      <th>Revenue</th>\n",
       "      <th>Competitors</th>\n",
       "    </tr>\n",
       "  </thead>\n",
       "  <tbody>\n",
       "    <tr>\n",
       "      <th>0</th>\n",
       "      <td>0</td>\n",
       "      <td>Data Scientist</td>\n",
       "      <td>$53K-$91K (Glassdoor est.)</td>\n",
       "      <td>Data Scientist\\nLocation: Albuquerque, NM\\nEdu...</td>\n",
       "      <td>3.8</td>\n",
       "      <td>Tecolote Research\\n3.8</td>\n",
       "      <td>Albuquerque, NM</td>\n",
       "      <td>Goleta, CA</td>\n",
       "      <td>501 to 1000 employees</td>\n",
       "      <td>1973</td>\n",
       "      <td>Company - Private</td>\n",
       "      <td>Aerospace &amp; Defense</td>\n",
       "      <td>Aerospace &amp; Defense</td>\n",
       "      <td>$50 to $100 million (USD)</td>\n",
       "      <td>-1</td>\n",
       "    </tr>\n",
       "    <tr>\n",
       "      <th>1</th>\n",
       "      <td>1</td>\n",
       "      <td>Healthcare Data Scientist</td>\n",
       "      <td>$63K-$112K (Glassdoor est.)</td>\n",
       "      <td>What You Will Do:\\n\\nI. General Summary\\n\\nThe...</td>\n",
       "      <td>3.4</td>\n",
       "      <td>University of Maryland Medical System\\n3.4</td>\n",
       "      <td>Linthicum, MD</td>\n",
       "      <td>Baltimore, MD</td>\n",
       "      <td>10000+ employees</td>\n",
       "      <td>1984</td>\n",
       "      <td>Other Organization</td>\n",
       "      <td>Health Care Services &amp; Hospitals</td>\n",
       "      <td>Health Care</td>\n",
       "      <td>$2 to $5 billion (USD)</td>\n",
       "      <td>-1</td>\n",
       "    </tr>\n",
       "    <tr>\n",
       "      <th>2</th>\n",
       "      <td>2</td>\n",
       "      <td>Data Scientist</td>\n",
       "      <td>$80K-$90K (Glassdoor est.)</td>\n",
       "      <td>KnowBe4, Inc. is a high growth information sec...</td>\n",
       "      <td>4.8</td>\n",
       "      <td>KnowBe4\\n4.8</td>\n",
       "      <td>Clearwater, FL</td>\n",
       "      <td>Clearwater, FL</td>\n",
       "      <td>501 to 1000 employees</td>\n",
       "      <td>2010</td>\n",
       "      <td>Company - Private</td>\n",
       "      <td>Security Services</td>\n",
       "      <td>Business Services</td>\n",
       "      <td>$100 to $500 million (USD)</td>\n",
       "      <td>-1</td>\n",
       "    </tr>\n",
       "    <tr>\n",
       "      <th>3</th>\n",
       "      <td>3</td>\n",
       "      <td>Data Scientist</td>\n",
       "      <td>$56K-$97K (Glassdoor est.)</td>\n",
       "      <td>*Organization and Job ID**\\nJob ID: 310709\\n\\n...</td>\n",
       "      <td>3.8</td>\n",
       "      <td>PNNL\\n3.8</td>\n",
       "      <td>Richland, WA</td>\n",
       "      <td>Richland, WA</td>\n",
       "      <td>1001 to 5000 employees</td>\n",
       "      <td>1965</td>\n",
       "      <td>Government</td>\n",
       "      <td>Energy</td>\n",
       "      <td>Oil, Gas, Energy &amp; Utilities</td>\n",
       "      <td>$500 million to $1 billion (USD)</td>\n",
       "      <td>Oak Ridge National Laboratory, National Renewa...</td>\n",
       "    </tr>\n",
       "    <tr>\n",
       "      <th>4</th>\n",
       "      <td>4</td>\n",
       "      <td>Data Scientist</td>\n",
       "      <td>$86K-$143K (Glassdoor est.)</td>\n",
       "      <td>Data Scientist\\nAffinity Solutions / Marketing...</td>\n",
       "      <td>2.9</td>\n",
       "      <td>Affinity Solutions\\n2.9</td>\n",
       "      <td>New York, NY</td>\n",
       "      <td>New York, NY</td>\n",
       "      <td>51 to 200 employees</td>\n",
       "      <td>1998</td>\n",
       "      <td>Company - Private</td>\n",
       "      <td>Advertising &amp; Marketing</td>\n",
       "      <td>Business Services</td>\n",
       "      <td>Unknown / Non-Applicable</td>\n",
       "      <td>Commerce Signals, Cardlytics, Yodlee</td>\n",
       "    </tr>\n",
       "  </tbody>\n",
       "</table>\n",
       "</div>"
      ],
      "text/plain": [
       "   Unnamed: 0                  Job Title              Salary Estimate  \\\n",
       "0           0             Data Scientist   $53K-$91K (Glassdoor est.)   \n",
       "1           1  Healthcare Data Scientist  $63K-$112K (Glassdoor est.)   \n",
       "2           2             Data Scientist   $80K-$90K (Glassdoor est.)   \n",
       "3           3             Data Scientist   $56K-$97K (Glassdoor est.)   \n",
       "4           4             Data Scientist  $86K-$143K (Glassdoor est.)   \n",
       "\n",
       "                                     Job Description  Rating  \\\n",
       "0  Data Scientist\\nLocation: Albuquerque, NM\\nEdu...     3.8   \n",
       "1  What You Will Do:\\n\\nI. General Summary\\n\\nThe...     3.4   \n",
       "2  KnowBe4, Inc. is a high growth information sec...     4.8   \n",
       "3  *Organization and Job ID**\\nJob ID: 310709\\n\\n...     3.8   \n",
       "4  Data Scientist\\nAffinity Solutions / Marketing...     2.9   \n",
       "\n",
       "                                 Company Name         Location  \\\n",
       "0                      Tecolote Research\\n3.8  Albuquerque, NM   \n",
       "1  University of Maryland Medical System\\n3.4    Linthicum, MD   \n",
       "2                                KnowBe4\\n4.8   Clearwater, FL   \n",
       "3                                   PNNL\\n3.8     Richland, WA   \n",
       "4                     Affinity Solutions\\n2.9     New York, NY   \n",
       "\n",
       "     Headquarters                    Size  Founded   Type of ownership  \\\n",
       "0      Goleta, CA   501 to 1000 employees     1973   Company - Private   \n",
       "1   Baltimore, MD        10000+ employees     1984  Other Organization   \n",
       "2  Clearwater, FL   501 to 1000 employees     2010   Company - Private   \n",
       "3    Richland, WA  1001 to 5000 employees     1965          Government   \n",
       "4    New York, NY     51 to 200 employees     1998   Company - Private   \n",
       "\n",
       "                           Industry                        Sector  \\\n",
       "0               Aerospace & Defense           Aerospace & Defense   \n",
       "1  Health Care Services & Hospitals                   Health Care   \n",
       "2                 Security Services             Business Services   \n",
       "3                            Energy  Oil, Gas, Energy & Utilities   \n",
       "4           Advertising & Marketing             Business Services   \n",
       "\n",
       "                            Revenue  \\\n",
       "0         $50 to $100 million (USD)   \n",
       "1            $2 to $5 billion (USD)   \n",
       "2        $100 to $500 million (USD)   \n",
       "3  $500 million to $1 billion (USD)   \n",
       "4          Unknown / Non-Applicable   \n",
       "\n",
       "                                         Competitors  \n",
       "0                                                 -1  \n",
       "1                                                 -1  \n",
       "2                                                 -1  \n",
       "3  Oak Ridge National Laboratory, National Renewa...  \n",
       "4               Commerce Signals, Cardlytics, Yodlee  "
      ]
     },
     "execution_count": 4,
     "metadata": {},
     "output_type": "execute_result"
    }
   ],
   "source": [
    "df.head()"
   ]
  },
  {
   "cell_type": "code",
   "execution_count": 5,
   "metadata": {},
   "outputs": [
    {
     "data": {
      "text/plain": [
       "(956, 15)"
      ]
     },
     "execution_count": 5,
     "metadata": {},
     "output_type": "execute_result"
    }
   ],
   "source": [
    "df.shape"
   ]
  },
  {
   "cell_type": "code",
   "execution_count": 6,
   "metadata": {},
   "outputs": [],
   "source": [
    "df = df[df['Salary Estimate']!='-1']"
   ]
  },
  {
   "cell_type": "code",
   "execution_count": 7,
   "metadata": {},
   "outputs": [
    {
     "data": {
      "text/plain": [
       "(742, 15)"
      ]
     },
     "execution_count": 7,
     "metadata": {},
     "output_type": "execute_result"
    }
   ],
   "source": [
    "df.shape"
   ]
  },
  {
   "cell_type": "code",
   "execution_count": 8,
   "metadata": {},
   "outputs": [],
   "source": [
    "salary = df['Salary Estimate'].apply(lambda x: x.split('(')[0])"
   ]
  },
  {
   "cell_type": "code",
   "execution_count": 9,
   "metadata": {},
   "outputs": [
    {
     "data": {
      "text/plain": [
       "0       $53K-$91K \n",
       "1      $63K-$112K \n",
       "2       $80K-$90K \n",
       "3       $56K-$97K \n",
       "4      $86K-$143K \n",
       "          ...     \n",
       "950    $58K-$111K \n",
       "951    $72K-$133K \n",
       "952     $56K-$91K \n",
       "953    $95K-$160K \n",
       "955    $61K-$126K \n",
       "Name: Salary Estimate, Length: 742, dtype: object"
      ]
     },
     "execution_count": 9,
     "metadata": {},
     "output_type": "execute_result"
    }
   ],
   "source": [
    "salary"
   ]
  },
  {
   "cell_type": "code",
   "execution_count": 10,
   "metadata": {},
   "outputs": [],
   "source": [
    "minus_kd = salary.apply(lambda x: x.replace(\"K\",\"\").replace(\"$\",\"\"))"
   ]
  },
  {
   "cell_type": "code",
   "execution_count": 15,
   "metadata": {},
   "outputs": [
    {
     "name": "stdout",
     "output_type": "stream",
     "text": [
      "['53-91 ', '63-112 ', '80-90 ', '56-97 ', '86-143 ', '71-119 ', '54-93 ', '86-142 ', '38-84 ', '120-160 ', '126-201 ', '64-106 ', '106-172 ', '46-85 ', '83-144 ', '102-190 ', '67-137 ', '118-189 ', '110-175 ', '64-111 ', '81-130 ', '73-119 ', '86-139 ', '63-105 ', '109-177 ', '63-110 ', '75-124 ', '34-61 ', '63-105 ', '80-90 ', '56-97 ', '72-120 ', '86-143 ', '93-149 ', '85-140 ', '77-135 ', '82-132 ', '83-137 ', '115-180 ', '74-138 ', '64-112 ', '68-129 ', '110-175 ', '52-113 ', '110-150', 'Employer Provided Salary:150-160', '158-211 ', '20-39 ', '56-117 ', '63-99 ', '68-114 ', '86-143 ', '41-95 ', '86-144 ', '80-139 ', '56-95 ', '120-189 ', '111-176 ', '54-93 ', '71-119 ', '82-132 ', '84-146 ', '107-172 ', '49-85 ', '61-109 ', '88-148 ', '60-99 ', '41-72 ', '96-161 ', '65-130 ', '52-81 ', '139-220 ', '50-102 ', '85-139 ', '74-122 ', '99-157 ', '79-222 ', '57-118 ', '83-137 ', '86-141 ', '94-154 ', '37-76 ', '100-160 ', '55-100 ', '60-114 ', '39-68 ', '106-172 ', '86-142 ', '64-107 ', '31-65 ', '34-62 ', '117-231 ', '64-106 ', '79-134 ', '52-93 ', '55-116 ', '72-123 ', '74-124 ', '40-73 ', '102-164 ', '89-153 ', '61-110 ', '65-110 ', '200-275', '68-123 ', '80-129 ', '41-72 ', '39-71 ', '38-85 ', '121-193 ', '54-102 ', '83-144 ', '120-160 ', '102-163 ', '76-140 ', '60-101 ', '82-133 ', '65-125 ', '91-148 ', '95-173 ', '77-124 ', '80-135 ', '85-159 ', '80-105', '43-81 ', '29-50 ', '82-133 ', '26-55 ', '61-118 ', '60-102 ', '112-182 ', '64-106 ', '51-112 ', '113-223 ', '72-129 ', '71-123 ', '64-106 ', '118-189 ', 'Employer Provided Salary:120-145', '80-120 ', '80-130 ', '59-115 ', '71-136 ', '81-167 ', '49-85 ', '60-114 ', '71-204 ', '75-125 ', '77-136 ', '74-123 ', '44-78 ', '65-148 ', '59-110 ', '85-134 ', '124-204 ', '131-207 ', '110-174 ', '52-101 ', '81-133 ', '132-211 ', '73-119 ', '110-175 ', '74-140 ', '100-190 ', '43-80 ', '17-24 Per Hour', '91-149 ', '42-82 ', '116-185 ', '59-116 ', '48-95 ', '31-72 ', '105-198 ', '55-100 ', '98-182 ', '73-124 ', 'Employer Provided Salary:200-250', '21-34 Per Hour', '117-206 ', '111-183 ', '44-78 ', '81-159 ', '83-166 ', '114-182 ', '42-76 ', '114-179 ', '60-123 ', '100-166 ', '108-173 ', '48-93 ', '54-115 ', '60-127 ', '90-179 ', '138-224 ', '54-115 ', '190-220', '35-62 ', '18-25 Per Hour', '39-66 ', '81-167 ', '42-86 ', '69-127 ', '21-34 Per Hour', '40-68 ', '49-113 ', '75-140 ', '86-139 ', '66-112 ', '76-125 ', '44-86 ', '15-25 Per Hour', '53-92 ', '44-78 ', '85-134 ', '59-110 ', '64-111 ', '65-120 ', '60-103 ', '53-105 ', '124-204 ', '131-207 ', '110-174 ', '33-62 ', '52-101 ', '48-90 ', '34-64 ', '132-211 ', '81-133 ', '42-76 ', '66-111 ', '74-140 ', '63-110 ', '63-105 ', '91-138 ', '100-190 ', '62-114 ', '71-129 ', '43-80 ', '74-119 ', '55-97 ', '15-16', '61-106 ', '91-149 ', '127-199 ', '74-126 ', '33-72 ', '17-24 Per Hour', '37-63 ', '67-119 ', '72-117 ', '116-185 ', '78-126 ', '42-82 ', '59-116 ', '63-105 ', '109-177 ', '116-194 ', '48-95 ', '83-133 ', '105-198 ', '31-72 ', '98-182 ', '55-100 ', '45-82 ', '83-135 ', '70-122 ', 'Employer Provided Salary:200-250', '70-132 ', '73-124 ', '54-101 ', '117-206 ', '21-34 Per Hour', '111-183 ', '68-112 ', '42-74 ', '44-78 ', '81-159 ', '95-161 ', '75-124 ', '72-120 ', '76-126 ', '114-182 ', '108-176 ', '130-208 ', '83-166 ', '42-76 ', '37-68 ', '52-99 ', '105-173 ', '71-134 ', '39-82 ', '114-179 ', '88-162 ', '60-102 ', '100-166 ', '55-99 ', '67-117 ', '92-150 ', '116-209 ', '38-82 ', 'Employer Provided Salary:85-90', '62-119 ', '86-143 ', '93-149 ', '84-136 ', '60-123 ', '52-89 ', '48-93 ', '56-97 ', '65-119 ', '108-173 ', '63-101 ', '54-115 ', '90-179 ', '127-202 ', '31-57 ', '60-127 ', '75-143 ', '105-194 ', '45-86 ', '95-154 ', '80-148 ', '36-62 ', '54-115 ', '50-92 ', '67-135 ', '82-132 ', '85-140 ', '138-224 ', '42-80 ', '190-220', '68-139 ', '34-92 ', '54-71 ', '65-124 ', '35-62 ', '109-200 ', '18-25 Per Hour', '61-113 ', '39-66 ', '43-86 ', '74-149 ', '113-196 ', '81-167 ', '97-160 ', '24-39 Per Hour', '42-86 ', '69-127 ', '110-175 ', '102-172 ', '74-124 ', '40-68 ', '108-171 ', '76-142 ', '202-306 ', '49-97 ', '49-113 ', '21-34 Per Hour', '65-134 ', '32-59 ', '87-158 ', '107-173 ', '56-99 ', 'Employer Provided Salary:25-28 Per Hour', '80-155 ', '43-98 ', '45-78 ', '44-96 ', '50-110 ', '61-119 ', 'Employer Provided Salary:100-140', '56-91 ', '68-114 ', 'Employer Provided Salary:150-160', '101-158 ', '125-210 ', '43-77 ', '139-221 ', '44-86 ', '78-147 ', '65-110 ', '37-66 ', '38-64 ', '43-82 ', '90-110', '61-109 ', '93-151 ', '52-81 ', '40-101 ', '97-180 ', '81-134 ', '84-157 ', '49-113 ', '68-139 ', '75-140 ', '121-203 ', '52-85 ', '81-140 ', '63-99 ', '110-150', '83-148 ', '60-101 ', '31-55 ', '102-178 ', 'Employer Provided Salary:110-130', '48-85 ', '66-123 ', '92-146 ', '21-29 Per Hour', '10-17 Per Hour', '150-239 ', '52-91 ', '82-129', '47-101 ', '49-76 ', '43-88 ', '124-199 ', '52-93 ', '97-181 ', '100-173 ', '53-96 ', '65-96 ', '56-95 ', '111-176 ', '75-127 ', '65-119 ', '56-97 ', '108-173 ', '94-139 ', '176-289 ', '92-149 ', '63-101 ', '54-115 ', '118-188 ', '108-146 ', '65-106 ', '55-98 ', '94-162 ', '63-120 ', '90-179 ', '127-202 ', '60-127 ', '31-57 ', '105-194 ', '45-86 ', '75-143 ', '126-228 ', '80-134 ', '120-189 ', '85-142 ', '95-154 ', '111-176 ', '87-140 ', '76-127 ', '54-92 ', '61-100 ', '81-140 ', '80-148 ', '108-171 ', '112-179 ', '63-111 ', '75-126 ', '110-184 ', '76-145 ', '36-62 ', '70-118 ', '94-153 ', '54-115 ', '50-92 ', '49-97 ', '67-135 ', '138-224 ', '80-139 ', '158-211 ', '150-180 ', '42-80 ', '190-220', '42-77 ', '68-139 ', '54-71 ', '34-92 ', '47-85 ', '65-124 ', '56-95 ', '62-112 ', '107-173 ', '64-108 ', '89-144 ', '109-200 ', '61-113 ', '35-62 ', '55-105 ', '18-25 Per Hour', '39-66 ', '135-211 ', '57-80 ', '129-215 ', '86-143 ', '63-127 ', '50-89 ', '43-86 ', '74-149 ', '71-124 ', '113-196 ', '81-167 ', '69-121 ', '97-160 ', '150-238 ', '77-132 ', '24-39 Per Hour', '59-112 ', '35-65 ', '79-147 ', '62-119 ', '119-187 ', '90-157 ', '32-62 ', '42-86 ', '116-208 ', '102-172 ', '69-127 ', '86-144 ', '102-165 ', '74-124 ', '40-68 ', '76-142 ', '76-142 ', '108-171 ', '202-306 ', '91-159 ', '80-133 ', '49-97 ', '49-113 ', '21-34 Per Hour', '65-134 ', '32-59 ', '39-69 ', '87-158 ', '27-48 ', '36-71 ', '107-173 ', '56-99 ', 'Employer Provided Salary:25-28 Per Hour', '80-155 ', '43-98 ', '44-96 ', '45-78 ', '50-110 ', '60-99 ', '130-206 ', '61-119 ', 'Employer Provided Salary:100-140', '99-178 ', '86-137 ', '37-100 ', '58-111 ', '72-133 ', '56-91 ', '61-126 ', '95-160 ', '53-91 ', '101-158 ', '33-61 ', '44-86 ', '43-77 ', '125-210 ', '44-86 ', '69-119 ', '65-110 ', '67-127 ', '78-147 ', '66-117 ', '37-66 ', '86-143 ', '84-146 ', '50-98 ', '38-64 ', '90-110', '92-150 ', '90-153 ', '43-82 ', 'Employer Provided Salary:100-135', '93-151 ', '61-109 ', '42-79 ', '139-221 ', '40-101 ', '84-153 ', '52-81 ', '81-134 ', '97-180 ', '49-113 ', '44-73 ', '75-140 ', '84-157 ', '40-87 ', '68-139 ', '72-142 ', '74-137 ', '57-109 ', '121-203 ', '52-85 ', '81-140 ', '83-148 ', '59-116 ', '60-101 ', '31-55 ', '102-178 ', '136-208 ', 'Employer Provided Salary:110-130', '48-85 ', '71-129 ', '66-123 ', '171-272 ', '92-146 ', '65-126 ', '150-239 ', '21-29 Per Hour', '10-17 Per Hour', '118-228 ', '82-129', '52-91 ', '47-101 ', '49-76 ', '43-88 ', '61-109 ', '113-182 ', '124-199 ', '58-104 ', '52-93 ', '97-181 ', '100-173 ', '58-108 ', '81-161 ', '53-96 ', '61-110 ', '65-96 ', '115-220 ', '71-144 ', '32-57 ', '79-136 ', 'Employer Provided Salary:120-145', '50-89 ', '68-129 ', '48-113 ', '27-47 Per Hour', '74-124 ', '68-125 ', '39-67 ', '71-135 ', '107-172 ', '49-85 ', '54-71 ', '61-123 ', '47-85 ', '65-124 ', '87-141 ', '56-95 ', '71-121 ', '62-112 ', '64-108 ', '89-144 ', '109-200 ', '35-62 ', '61-113 ', '55-105 ', '18-25 Per Hour', '135-211 ', '39-66 ', '57-80 ', '63-127 ', '50-89 ', '82-132 ', '85-139 ', '72-121 ', '74-149 ', '113-196 ', '69-121 ', '71-124 ', '97-160 ', '81-167 ', '150-238 ', '24-39 Per Hour', '35-65 ', '77-132 ', '51-88 ', '101-141 ', '59-112 ', '79-147 ', '79-127 ', '62-119 ', '119-187 ', '81-132 ', 'Employer Provided Salary:120-140', '90-157 ', '63-110 ', '42-86 ', '32-62 ', '116-208 ', '107-173 ', '65-113 ', '69-127 ', '102-172 ', '74-124 ', '40-68 ', '76-142 ', '76-142 ', '108-171 ', '202-306 ', '91-159 ', '80-133 ', '21-34 Per Hour', '49-97 ', '49-113 ', '96-161 ', '65-134 ', '59-125 ', '32-59 ', '87-158 ', '27-48 ', '39-69 ', '36-71 ', '107-173 ', '56-99 ', 'Employer Provided Salary:25-28 Per Hour', '80-155 ', '43-98 ', '45-78 ', '50-110 ', '44-96 ', 'Employer Provided Salary:100-140', '61-119 ', '80-142 ', '99-178 ', '37-100 ', '62-113 ', '86-137 ', '58-111 ', '72-133 ', '56-91 ', '95-160 ', '61-126 ']\n"
     ]
    }
   ],
   "source": [
    "print(list(minus_kd))"
   ]
  },
  {
   "cell_type": "code",
   "execution_count": 12,
   "metadata": {},
   "outputs": [],
   "source": [
    "df['hourly'] = df['Salary Estimate'].apply(lambda x: 1 if 'per hour' in x.lower() else 0)"
   ]
  },
  {
   "cell_type": "code",
   "execution_count": 13,
   "metadata": {},
   "outputs": [
    {
     "data": {
      "text/plain": [
       "0      0\n",
       "1      0\n",
       "2      0\n",
       "3      0\n",
       "4      0\n",
       "      ..\n",
       "950    0\n",
       "951    0\n",
       "952    0\n",
       "953    0\n",
       "955    0\n",
       "Name: hourly, Length: 742, dtype: int64"
      ]
     },
     "execution_count": 13,
     "metadata": {},
     "output_type": "execute_result"
    }
   ],
   "source": [
    "df['hourly']"
   ]
  },
  {
   "cell_type": "code",
   "execution_count": null,
   "metadata": {},
   "outputs": [],
   "source": [
    "df['employer_provided'] = df['Salary Estimate'].apply(lambda x: 1 if 'employer provided salary:' in x.lower() else 0)"
   ]
  }
 ],
 "metadata": {
  "kernelspec": {
   "display_name": "Python 3",
   "language": "python",
   "name": "python3"
  },
  "language_info": {
   "codemirror_mode": {
    "name": "ipython",
    "version": 3
   },
   "file_extension": ".py",
   "mimetype": "text/x-python",
   "name": "python",
   "nbconvert_exporter": "python",
   "pygments_lexer": "ipython3",
   "version": "3.6.5"
  }
 },
 "nbformat": 4,
 "nbformat_minor": 4
}
